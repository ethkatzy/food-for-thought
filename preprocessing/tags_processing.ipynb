{
 "cells": [
  {
   "cell_type": "code",
   "execution_count": 178,
   "id": "baafc08a-eb90-46ea-88e8-84e795fcb6c9",
   "metadata": {},
   "outputs": [
    {
     "name": "stdout",
     "output_type": "stream",
     "text": [
      "<class 'list'>\n"
     ]
    }
   ],
   "source": [
    "import numpy as np\n",
    "import pandas as pd\n",
    "from ast import literal_eval\n",
    "\n",
    "data = pd.read_json('recipes_processed_key.json')\n",
    "recipes = pd.read_csv('recipes_processed_3.csv', converters= {'tags': literal_eval})\n",
    "print(type(recipes.at[0, 'tags']))"
   ]
  },
  {
   "cell_type": "code",
   "execution_count": 103,
   "id": "f400be21-953c-4cb7-8201-2177af517394",
   "metadata": {},
   "outputs": [
    {
     "data": {
      "image/png": "[encoded data removed]",
      "text/plain": [
       "<Figure size 640x480 with 1 Axes>"
      ]
     },
     "metadata": {},
     "output_type": "display_data"
    }
   ],
   "source": [
    "from collections import Counter\n",
    "import matplotlib.pyplot as plt\n",
    "all_tags = np.concatenate(recipes['tags'].values)\n",
    "c = Counter(all_tags)\n",
    "plt.hist(c.values(), 1000)\n",
    "plt.savefig('frequency_of_tags')"
   ]
  },
  {
   "cell_type": "code",
   "execution_count": 220,
   "id": "f1b5c0f7-09ee-4e29-b263-7adf82984e9a",
   "metadata": {},
   "outputs": [],
   "source": [
    "to_remove = np.array([key for key,value in c.items() if value == 1])"
   ]
  },
  {
   "cell_type": "code",
   "execution_count": 222,
   "id": "df175c1b-afe1-4805-9115-5abd2e04dd1d",
   "metadata": {},
   "outputs": [],
   "source": [
    "to_remove2 = np.array(data[data['tags'].str.len() > 25].index.tolist())"
   ]
  },
  {
   "cell_type": "code",
   "execution_count": 232,
   "id": "93226372-9230-40ef-9b6b-205f0dca23ca",
   "metadata": {},
   "outputs": [
    {
     "name": "stdout",
     "output_type": "stream",
     "text": [
      "[  8  26  32  37  38  43  53  59  62  64  74  76  99 101 102 135 152 153\n",
      " 159 170 182 190 222 229 235 251 266 269 274 294 296 303 315 323 336 364\n",
      " 388 389 391 396 408 424 425 451 456 465 466 476 492]\n"
     ]
    }
   ],
   "source": [
    "remove = np.unique(np.concatenate((to_remove, to_remove2)))\n",
    "print(remove)"
   ]
  },
  {
   "cell_type": "code",
   "execution_count": 240,
   "id": "80f4bb28-418f-429d-b3d5-19c00d34607b",
   "metadata": {},
   "outputs": [],
   "source": [
    "recipes['tags'] = recipes['tags'].apply(lambda x: [i for i in x if i not in remove])"
   ]
  },
  {
   "cell_type": "code",
   "execution_count": 246,
   "id": "18b9fd37-9182-4005-8683-b1b01a25e9ce",
   "metadata": {},
   "outputs": [],
   "source": [
    "recipes.to_csv('recipes_improved_tags.csv', index = False)"
   ]
  },
  {
   "cell_type": "code",
   "execution_count": null,
   "id": "a1bcd2cf-adf4-4b81-946f-c1eb67b569ed",
   "metadata": {},
   "outputs": [],
   "source": []
  }
 ],
 "metadata": {
  "kernelspec": {
   "display_name": "Python 3 (ipykernel)",
   "language": "python",
   "name": "python3"
  },
  "language_info": {
   "codemirror_mode": {
    "name": "ipython",
    "version": 3
   },
   "file_extension": ".py",
   "mimetype": "text/x-python",
   "name": "python",
   "nbconvert_exporter": "python",
   "pygments_lexer": "ipython3",
   "version": "3.12.4"
  }
 },
 "nbformat": 4,
 "nbformat_minor": 5
}
