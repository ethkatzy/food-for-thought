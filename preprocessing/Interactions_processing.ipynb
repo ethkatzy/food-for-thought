{
 "cells": [
  {
   "cell_type": "code",
   "execution_count": 21,
   "id": "b95be43e-15e0-469a-be0b-d1dc10122005",
   "metadata": {},
   "outputs": [],
   "source": [
    "import pandas as pd\n",
    "import numpy as np\n",
    "\n",
    "#place this notebook in the same directory as the raw interactions data file\n",
    "\n",
    "#produces a trimmed interactions dataset. removes reviews with no rating and data columns review and date\n",
    "\n",
    "df= pd.read_csv(\"RAW_interactions.csv\", header=0)\n",
    "df = df.drop([\"review\", \"date\"], axis=1) #remove rewiev date and review text columns\n",
    "df= df[df[\"rating\"] != 0] #remove reviews without a rating aka. value 0\n",
    "#df.isnull().any() #check columns for null values - none found\n",
    "df.to_csv(\"interactions_processed.csv\", sep=',', encoding='utf-8', index=False, header=True) #output df to file in format [user_id, recipe_id, rating] as csv\n",
    "\n"
   ]
  }
 ],
 "metadata": {
  "kernelspec": {
   "display_name": "Python 3 (ipykernel)",
   "language": "python",
   "name": "python3"
  },
  "language_info": {
   "codemirror_mode": {
    "name": "ipython",
    "version": 3
   },
   "file_extension": ".py",
   "mimetype": "text/x-python",
   "name": "python",
   "nbconvert_exporter": "python",
   "pygments_lexer": "ipython3",
   "version": "3.12.4"
  }
 },
 "nbformat": 4,
 "nbformat_minor": 5
}
