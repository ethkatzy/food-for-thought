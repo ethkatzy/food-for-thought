{
 "cells": [
  {
   "cell_type": "code",
   "execution_count": 2,
   "id": "4b0171c8-9681-49fd-ae95-f9d058505ed9",
   "metadata": {},
   "outputs": [],
   "source": [
    "#data import\n",
    "import numpy as np\n",
    "import pandas as pd\n",
    "\n",
    "interactions= pd.read_csv(\"interactions_processed.csv\", header= 0)\n",
    "r1= pd.read_csv(\"recipes_processed_1.csv\", header= 0)\n",
    "r2= pd.read_csv(\"recipes_with_new_ingredients.csv\", header= 0)\n",
    "r3= pd.read_csv(\"recipes_improved_tags.csv\", header= 0)\n",
    "recipes= r1.merge(r2, on= \"id\")\n",
    "recipes= recipes.merge(r3, on= \"id\")\n",
    "ingredients= pd.read_json(\"new_ingredient_ids.json\", orient=\"index\")[0]\n",
    "tags= pd.read_json(\"recipes_processed_key.json\")[\"tags\"]\n",
    "\n",
    "\n",
    "#print(recipes.index)"
   ]
  },
  {
   "cell_type": "code",
   "execution_count": 3,
   "id": "e5d1aed7-4d2f-4462-960e-cf65d0f99981",
   "metadata": {},
   "outputs": [
    {
     "name": "stdout",
     "output_type": "stream",
     "text": [
      "7.800000000000001\n"
     ]
    }
   ],
   "source": [
    "#concept\n",
    "\n",
    "personalValues= np.array([5, 3.7, 0, 2.1, 0.7, 3.2]) # Personal avg ratings for each ingredient derived from personal ratings\n",
    "                                                     # Vector of length n = |ingridients|, as in n is the number of ALL ingredients in the food.com system\n",
    "\n",
    "\n",
    "\n",
    "recipeVector= np.array([1,0,1,1,1,0]) #Vector representation of a recipe. Vector of length n\n",
    "\n",
    "# vector x vector score computation\n",
    "print(np.dot(personalValues, recipeVector))\n",
    "\n"
   ]
  },
  {
   "cell_type": "code",
   "execution_count": 4,
   "id": "94811931-9ce4-491e-ab40-c327173bcb19",
   "metadata": {},
   "outputs": [],
   "source": [
    "#functions\n",
    "\n",
    "from ast import literal_eval #parses .csv string \"lists\" to actual python lists\n",
    "\n",
    "def parseReviews(userID, interactions, recipes, ingredients, tags): #parses a user's submitted into vectors of average rating for each ingredient and tag\n",
    "    #print(recipes.dtypes)\n",
    "    data= interactions[interactions[\"user_id\"]== userID]\n",
    "    data= data.merge(recipes, left_on= \"recipe_id\", right_on= \"id\")\n",
    "    print(data[\"name\"].head(15))\n",
    "    personalIngredients= np.array([0]*len(ingredients), dtype= np.float32)\n",
    "    ingredientsIncremented= np.array([0]*len(ingredients), dtype=np.uint8)\n",
    "    personalTags= np.array([0]*len(tags), dtype=np.float32)\n",
    "    tagsIncremented= np.array([0]*len(tags), dtype=np.uint8)\n",
    "    \n",
    "    for i in range(len(data)): \n",
    "        for ingredient in literal_eval(data.loc[i,\"ingredients\"]): #process ingredients\n",
    "            #print(ingredient)\n",
    "            ingredientsIncremented[ingredient]= ingredientsIncremented[ingredient]+1\n",
    "            added= (data.loc[i,\"rating\"]-personalIngredients[ingredient])/ingredientsIncremented[ingredient]\n",
    "            personalIngredients[ingredient]= personalIngredients[ingredient]+added\n",
    "\n",
    "    #for i in range(len(data)):\n",
    "        for tag in literal_eval(data.loc[i,\"tags\"]): #process tags\n",
    "            tagsIncremented[tag]= tagsIncremented[tag]+1\n",
    "            added= (data.loc[i,\"rating\"]-personalTags[tag])/tagsIncremented[tag]\n",
    "            personalTags[tag]= personalTags[tag]+added\n",
    "    \n",
    "    return personalIngredients, personalTags # outputs 2 vectors of length n = |ingredients| and length t = |tags| respectively.\n",
    "    \n",
    "\n",
    "\n",
    "def vectorizeRecipes(recipes, ingredients, tags): # parses the recipes data into binary matrices of ingredients and tags in each recipe\n",
    "    nIngredients=np.array([0]*len(recipes), dtype= np.uint8)\n",
    "    nTags=np.array([0]*len(recipes), dtype= np.uint8)\n",
    "    recipesIngredientsVectorized= np.zeros((np.shape(recipes)[0],np.shape(ingredients)[0]),np.float32)\n",
    "    recipesTagsVectorized= np.zeros((np.shape(recipes)[0],np.shape(tags)[0]),np.float32)\n",
    "    recipes= recipes.assign(index= [n for n in range(len(recipes))])\n",
    "    \n",
    "    for i in range(len(recipes)):\n",
    "        #process ingredients\n",
    "        count=0\n",
    "        ing=literal_eval(recipes.loc[i,\"ingredients\"])\n",
    "        for j in range(len(ing)):\n",
    "            recipesIngredientsVectorized[i,ing[j]]=1\n",
    "            count=count+1\n",
    "        nIngredients[i]= count\n",
    "\n",
    "    for i in range(len(recipes)):\n",
    "        #process tags\n",
    "        count2=1\n",
    "        ts=literal_eval(recipes.loc[i,\"tags\"])\n",
    "        for j in range(len(ts)):\n",
    "            recipesTagsVectorized[i,ts[j]]=1\n",
    "            count2=count2+1\n",
    "        nTags[i]= count2\n",
    "\n",
    "    return recipesIngredientsVectorized, recipesTagsVectorized, nIngredients, nTags #  outputs two matrices of with dimensions mxn and mxt, and two length m = |recipes| vectors.\n",
    "\n",
    "\n",
    "def generateRecommendations(recipes, personalIngredients, personalTags, recipeIngredientVectors, recipeTagVectors, nIngredients, nTags): #generates the personal recommendations for a user\n",
    "    iRatings= np.dot(recipeIngredientVectors, personalIngredients)/ nIngredients\n",
    "    tRatings= np.dot(recipeTagVectors, personalTags) / nTags\n",
    "    #print(\"calc done\")\n",
    "    \n",
    "    ratings=(iRatings+tRatings)/2\n",
    "    recommend= np.argsort(ratings)[::-1][:25]\n",
    "    l=[]\n",
    "    for i in range(25):\n",
    "        l.append((recipes.loc[recommend[i], \"name\"], ratings[recommend[i]]))\n",
    "    return l\n"
   ]
  },
  {
   "cell_type": "code",
   "execution_count": 5,
   "id": "0baa0432-5cc0-4fda-bf58-ce0d2b892e2d",
   "metadata": {},
   "outputs": [],
   "source": [
    "#warning - slow\n",
    "#run vectorization of recipes only once\n",
    "#import time\n",
    "#start_time = time.time()\n",
    "\n",
    "recipesV= vectorizeRecipes(recipes, ingredients, tags)\n",
    "recipesV=(np.copy(recipesV[0], order=\"F\"), np.copy(recipesV[1],order=\"F\"), recipesV[2], recipesV[3])\n",
    "\n",
    "#print(\"--- %s seconds ---\" % (time.time() - start_time))"
   ]
  },
  {
   "cell_type": "code",
   "execution_count": 6,
   "id": "06024321-de27-414a-963d-48152b5a64e4",
   "metadata": {},
   "outputs": [
    {
     "name": "stdout",
     "output_type": "stream",
     "text": [
      "0         tuscan bread salad\n",
      "1    roast crock pot chicken\n",
      "Name: name, dtype: object\n",
      "[('tuscan bread salad', 4.607639), ('blast chicken', 4.1208334), ('roast crock pot chicken', 4.017544), ('bake chicken onion garlic rosemari', 3.8552632), ('rosemari infus oil', 3.75), ('open peski pistachio nut', 3.732143), ('tuscan style pepper chicken', 3.717647), ('basic pesto recip', 3.6904764), ('brais balsam chicken garlic onion', 3.609375), ('easiest chicken recip', 3.6086955), ('boneless leg lamb', 3.594737), ('mediterranean herb oil', 3.578125), ('roast red potato rosemari', 3.575), ('roast chicken italian season', 3.5661764), ('roman roast veget', 3.53125), ('chicken vinegar mark bittman', 3.525), ('process pimiento pepper', 3.5192308), ('oven grill steak mark bittman', 3.5166667), ('wine reduct frozen cube', 3.5131578), ('south beach parmesan cracker', 3.5131578), ('simpl balsam vinaigrett', 3.5125), ('portabella mushroom', 3.4887218), ('herb marin ostrich', 3.478125), ('basil mint pesto', 3.4545455), ('chicken meatbal spaghetti meatbal', 3.45)]\n"
     ]
    }
   ],
   "source": [
    "#run individual analysis\n",
    "user=54216\n",
    "#start_time = time.time()\n",
    "\n",
    "personalV= parseReviews(user,interactions, recipes, ingredients,tags)\n",
    "personalRecommendations= generateRecommendations(recipes, personalV[0],personalV[1], recipesV[0],recipesV[1],recipesV[2], recipesV[3] )\n",
    "print(personalRecommendations[0:50])\n",
    "\n",
    "#print(\"--- %s seconds ---\" % (time.time() - start_time))\n",
    "#print(recipesV[0].flags)"
   ]
  },
  {
   "cell_type": "code",
   "execution_count": null,
   "id": "0b76e614-fc1d-4ee6-bcc2-c5fe6dffe220",
   "metadata": {},
   "outputs": [],
   "source": [
    "\n"
   ]
  }
 ],
 "metadata": {
  "kernelspec": {
   "display_name": "Python 3 (ipykernel)",
   "language": "python",
   "name": "python3"
  },
  "language_info": {
   "codemirror_mode": {
    "name": "ipython",
    "version": 3
   },
   "file_extension": ".py",
   "mimetype": "text/x-python",
   "name": "python",
   "nbconvert_exporter": "python",
   "pygments_lexer": "ipython3",
   "version": "3.12.4"
  }
 },
 "nbformat": 4,
 "nbformat_minor": 5
}
