{
 "cells": [
  {
   "cell_type": "code",
   "execution_count": 111,
   "id": "e2069190-24c4-42a1-a5bb-04ef943cf0df",
   "metadata": {},
   "outputs": [
    {
     "name": "stdout",
     "output_type": "stream",
     "text": [
      "0         [13369, 7909, 8106, 6059, 1480, 8586, 10716]\n",
      "1               [9673, 10810, 3992, 7952, 10738, 2018]\n",
      "2    [5671, 13453, 3472, 12383, 12402, 10598, 6616,...\n",
      "3    [11578, 8366, 10962, 8860, 12204, 8586, 10167,...\n",
      "4    [12379, 328, 11771, 10716, 9043, 2636, 2570, 3...\n",
      "5                             [7952, 12755, 4789, 323]\n",
      "6    [4334, 5606, 10447, 5114, 9050, 8686, 8668, 10...\n",
      "7    [9526, 11433, 4620, 4622, 2269, 4592, 10716, 4...\n",
      "8               [2444, 2458, 12755, 572, 11703, 13179]\n",
      "9    [11771, 12608, 572, 3992, 4647, 8686, 1595, 54...\n",
      "Name: ingredients, dtype: object\n"
     ]
    }
   ],
   "source": [
    "import numpy as np\n",
    "import pandas as pd\n",
    "from ast import literal_eval\n",
    "\n",
    "data = pd.read_json('recipes_processed_key.json')\n",
    "recipes = pd.read_csv('recipes_processed_2.csv', converters= {'ingredients': literal_eval})\n",
    "print(recipes['ingredients'].head(10))"
   ]
  },
  {
   "cell_type": "code",
   "execution_count": 113,
   "id": "82314e5e-3d6f-4d66-9b24-cc11ffb02755",
   "metadata": {},
   "outputs": [],
   "source": [
    "new_ingredient_id = 1\n",
    "id_to_new_id_map = {}\n",
    "new_id_to_word_map = {}\n",
    "word = ''\n",
    "for i in range(len(data['ingredients'])):\n",
    "    ingr = data['ingredients'][i].split()[0]\n",
    "    if ingr != word:\n",
    "        id_to_new_id_map[i] = new_ingredient_id\n",
    "        new_id_to_word_map[new_ingredient_id] = ingr\n",
    "        new_ingredient_id += 1\n",
    "        word = ingr\n",
    "    else:\n",
    "        id_to_new_id_map[i] = new_ingredient_id\n",
    "def map_ingredient_ids(ingredient_ids):\n",
    "    return list(set([id_to_new_id_map.get(ing_id) for ing_id in ingredient_ids]))\n",
    "\n",
    "recipes['ingredients'] = recipes['ingredients'].apply(map_ingredient_ids)"
   ]
  },
  {
   "cell_type": "code",
   "execution_count": 118,
   "id": "fc8a539b-0f95-4f5c-b383-0a5cac025dbb",
   "metadata": {},
   "outputs": [
    {
     "data": {
      "image/png": "[encoded data removed]",
      "text/plain": [
       "<Figure size 640x480 with 1 Axes>"
      ]
     },
     "metadata": {},
     "output_type": "display_data"
    }
   ],
   "source": [
    "from collections import Counter\n",
    "import matplotlib.pyplot as plt\n",
    "all_ingr = np.concatenate(recipes['ingredients'].values)\n",
    "c = Counter(all_ingr)\n",
    "plt.hist(c.values(), 300, range = (0,300))\n",
    "plt.savefig('frequency_of_new_ingredients')"
   ]
  },
  {
   "cell_type": "code",
   "execution_count": 121,
   "id": "0f01ca8d-efb4-48c4-944f-b5c19d7cd66c",
   "metadata": {},
   "outputs": [
    {
     "name": "stdout",
     "output_type": "stream",
     "text": [
      "0\n"
     ]
    }
   ],
   "source": [
    "to_remove = np.unique(np.array([key for key,value in c.items() if value == 1]))\n",
    "print(len(to_remove))\n",
    "recipes['ingredients'] = recipes['ingredients'].apply(lambda x: [i for i in x if i not in to_remove])"
   ]
  },
  {
   "cell_type": "code",
   "execution_count": 125,
   "id": "1a15b8f2-17f0-4f38-9323-7eb831310e57",
   "metadata": {},
   "outputs": [],
   "source": [
    "with open(\"new_ingredient_ids.json\", \"w\") as outfile: \n",
    "    json.dump(new_id_to_word_map, outfile)\n",
    "recipes.to_csv('recipes_with_new_ingredients.csv')"
   ]
  },
  {
   "cell_type": "code",
   "execution_count": null,
   "id": "528e37b4-6a82-4810-82b0-9eda637de759",
   "metadata": {},
   "outputs": [],
   "source": []
  }
 ],
 "metadata": {
  "kernelspec": {
   "display_name": "Python 3 (ipykernel)",
   "language": "python",
   "name": "python3"
  },
  "language_info": {
   "codemirror_mode": {
    "name": "ipython",
    "version": 3
   },
   "file_extension": ".py",
   "mimetype": "text/x-python",
   "name": "python",
   "nbconvert_exporter": "python",
   "pygments_lexer": "ipython3",
   "version": "3.12.4"
  }
 },
 "nbformat": 4,
 "nbformat_minor": 5
}
