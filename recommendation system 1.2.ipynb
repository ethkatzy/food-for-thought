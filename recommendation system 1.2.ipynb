{
 "cells": [
  {
   "cell_type": "code",
   "execution_count": 2,
   "id": "4b0171c8-9681-49fd-ae95-f9d058505ed9",
   "metadata": {},
   "outputs": [],
   "source": [
    "#data import\n",
    "import numpy as np\n",
    "import pandas as pd\n",
    "\n",
    "interactions= pd.read_csv(\"interactions_processed.csv\", header= 0)\n",
    "r1= pd.read_csv(\"recipes_processed_1.csv\", header= 0)\n",
    "r2= pd.read_csv(\"recipes_with_new_ingredients.csv\", header= 0)\n",
    "r3= pd.read_csv(\"recipes_improved_tags.csv\", header= 0)\n",
    "recipes= r1.merge(r2, on= \"id\")\n",
    "recipes= recipes.merge(r3, on= \"id\")\n",
    "ingredients= pd.read_json(\"recipes_processed_key.json\")[\"ingredients\"]\n",
    "tags= pd.read_json(\"recipes_processed_key.json\")[\"tags\"]\n",
    "\n",
    "\n"
   ]
  },
  {
   "cell_type": "code",
   "execution_count": 3,
   "id": "e5d1aed7-4d2f-4462-960e-cf65d0f99981",
   "metadata": {},
   "outputs": [
    {
     "name": "stdout",
     "output_type": "stream",
     "text": [
      "7.800000000000001\n",
      "[5.  0.  0.  2.1 0.7 0. ]\n",
      "7.8\n"
     ]
    }
   ],
   "source": [
    "#concept\n",
    "\n",
    "personalValues= np.array([5, 3.7, 0, 2.1, 0.7, 3.2]) # Personal avg ratings for each ingredient derived from personal ratings\n",
    "                                                     # Vector of length n = |ingridients|, as in n is the number of ALL ingredients in the food.com system\n",
    "\n",
    "recipeIngredients= np.array([ [1,0,0,0,0,0],  #recipe X represented as its ingredients on a n*n matrix, where 1 at index [j,j] denotes j'th ingredient\n",
    "                              [0,0,0,0,0,0],  #being present in the recipe\n",
    "                              [0,0,1,0,0,0], \n",
    "                              [0,0,0,1,0,0], \n",
    "                              [0,0,0,0,1,0], \n",
    "                              [0,0,0,0,0,0]])\n",
    "\n",
    "recipeVector= np.array([1,0,1,1,1,0]) #Alternative vector representation of a recipe. Vector of length n\n",
    "\n",
    "# compute recommendation score as matrix x vector\n",
    "scores= np.dot(personalValues,recipeIngredients) # compute score vector of recipe X\n",
    "scoreCollapsed= np.sum(scores) # collapse score vector to a single number\n",
    "\n",
    "# vector x vector alternative\n",
    "print(np.dot(personalValues, recipeVector))\n",
    "\n",
    "print(scores)\n",
    "print(scoreCollapsed)"
   ]
  },
  {
   "cell_type": "code",
   "execution_count": 17,
   "id": "94811931-9ce4-491e-ab40-c327173bcb19",
   "metadata": {},
   "outputs": [],
   "source": [
    "#functions\n",
    "\n",
    "from ast import literal_eval #parses .csv string \"lists\" to actual python lists\n",
    "\n",
    "def parseReviews(userID, interactions, recipes, ingredients, tags): #parses a user's submitted into a vector of average rating for each ingredient\n",
    "    #print(recipes.dtypes)\n",
    "    data= interactions[interactions[\"user_id\"]== userID]\n",
    "    data= data.merge(recipes, left_on= \"recipe_id\", right_on= \"id\")\n",
    "    #print(data.head())\n",
    "    personalIngredients= np.array([0]*len(ingredients))\n",
    "    ingredientsIncremented= np.array([0]*len(ingredients))\n",
    "    personalTags= np.array([0]*len(tags))\n",
    "    tagsIncremented= np.array([0]*len(tags))\n",
    "    \n",
    "    for i in range(len(data)):\n",
    "        #print(data.loc[i,\"ingredients\"])\n",
    "        for ingredient in literal_eval(data.loc[i,\"ingredients\"]):\n",
    "            #print(ingredient)\n",
    "            ingredientsIncremented[ingredient]= ingredientsIncremented[ingredient]+1\n",
    "            added= (data.loc[i,\"rating\"]-personalIngredients[ingredient])/ingredientsIncremented[ingredient]\n",
    "            personalIngredients[ingredient]= personalIngredients[ingredient]+added\n",
    "\n",
    "    for i in range(len(data)):\n",
    "        #print(data.loc[i,\"ingredients\"])\n",
    "        for tag in literal_eval(data.loc[i,\"tags\"]):\n",
    "            #print(ingredient)\n",
    "            tagsIncremented[tag]= tagsIncremented[tag]+1\n",
    "            added= (data.loc[i,\"rating\"]-personalTags[tag])/tagsIncremented[tag]\n",
    "            personalTags[tag]= personalTags[tag]+added\n",
    "    return personalIngredients, personalTags # outputs a vector of length n = |ingredients|\n",
    "    \n",
    "\n",
    "\n",
    "def vectorizeRecipes(recipes, ingredients, tags): # parses the recipes data into binary vectors of ingredients in each recipe\n",
    "\n",
    "    recipesIngredientsVectorized= []\n",
    "    for i in range(len(recipes)):\n",
    "        recipeIngredients= np.array([0]*(len(ingredients)))\n",
    "        count=0\n",
    "        for ingredient in literal_eval(recipes.loc[i,\"ingredients\"]):\n",
    "            recipeIngredients[ingredient]=1\n",
    "            count=count+1\n",
    "        recipesIngredientsVectorized.append((recipes.loc[i, \"name\"],recipeIngredients, count))\n",
    "\n",
    "    recipesTagsVectorized= []\n",
    "    for i in range(len(recipes)):\n",
    "        recipeTags= np.array([0]*(len(tags)))\n",
    "        count=1\n",
    "        for tag in literal_eval(recipes.loc[i,\"tags\"]):\n",
    "            recipeTags[tag]=1\n",
    "            count=count+1\n",
    "        recipesTagsVectorized.append((recipes.loc[i, \"name\"],recipeTags, count))\n",
    "\n",
    "    return recipesIngredientsVectorized, recipesTagsVectorized # outputs a length m = |recipes| list of vectors of length n \n",
    "\n",
    "#here\n",
    "\n",
    "def generateRecommendations(personalIngredients, personalTags, recipeIngredientVectors, recipeTagVectors): #generates the personal recommendations for an user\n",
    "    ratings= []\n",
    "    for recipe in range(len(recipeIngredientVectors)):\n",
    "        iRating= np.dot(personalIngredients, recipeIngredientVectors[recipe][1])/ recipeIngredientVectors[recipe][2]\n",
    "        tRating= np.dot(personalTags, recipeTagVectors[recipe][1])/ (recipeTagVectors[recipe][2])\n",
    "        ratings.append((recipeIngredientVectors[recipe][0], (iRating+tRating)/2))\n",
    "    \n",
    "    ratings.sort(key= lambda x: x[1], reverse= True)\n",
    "    return ratings # outputs a length m list of 2-tuples formatted as (recipeID, score)\n",
    "\n"
   ]
  },
  {
   "cell_type": "code",
   "execution_count": 5,
   "id": "0baa0432-5cc0-4fda-bf58-ce0d2b892e2d",
   "metadata": {},
   "outputs": [
    {
     "name": "stdout",
     "output_type": "stream",
     "text": [
      "--- 135.87946820259094 seconds ---\n"
     ]
    }
   ],
   "source": [
    "#warning - slow\n",
    "#run vectorization of recipes only once\n",
    "import time\n",
    "start_time = time.time()\n",
    "\n",
    "recipesV= vectorizeRecipes(recipes, ingredients, tags)\n",
    "\n",
    "print(\"--- %s seconds ---\" % (time.time() - start_time))"
   ]
  },
  {
   "cell_type": "code",
   "execution_count": 19,
   "id": "06024321-de27-414a-963d-48152b5a64e4",
   "metadata": {},
   "outputs": [
    {
     "name": "stdout",
     "output_type": "stream",
     "text": [
      "[('hawaiian kielbasa', 2.9347826086956523), ('italian sausag potato', 2.083333333333333), ('kielbasa appet 2 ingredi', 1.9285714285714286), ('jamon sangria sangria ham', 1.81875), ('easiest bake spam', 1.8125), ('bake bean sandwich', 1.8), ('crock pot pork tenderloin appl', 1.7922077922077921), ('brown sugar crust cheesecak', 1.75), ('special pork bean', 1.75), ('littl bacon smoki', 1.71875), ('pork loin mustard glaze', 1.71875), ('taco fri', 1.7045454545454546), ('bourbon sausag dog', 1.7035714285714285), ('easiest mouth water rib', 1.7), ('appl sausag appet', 1.6875), ('sausag bacon bite', 1.6666666666666665), ('cheerwin holiday parti punch', 1.65), ('appl orchard bean bake', 1.625), ('awesom lil smoki', 1.625), ('bacon dog', 1.625), ('chicken bacon bbq 3000 popper penzey', 1.625), ('delici bake ham', 1.625), ('toilet cleaner', 1.625), ('rosi cinnamon appl 2', 1.6071428571428572), ('north carolina bbq', 1.6022727272727273), ('fantabul easi bake bean', 1.6), ('wick easi beef rice', 1.6), ('super super bowl smoki crock pot', 1.5978260869565217), ('pineappl marin pork chop', 1.59375), ('crockpot chili sauc chicken', 1.5857142857142859), ('dress slow cook can bake bean', 1.5833333333333335), ('polish sausag stew', 1.5824175824175823), ('jambalaya polish sausag', 1.575), ('kahlua yam', 1.575), ('glaze corn beef', 1.5714285714285714), ('spici candi bacon', 1.5714285714285714), ('smoke sausag', 1.5681818181818183), ('sweet n sour sausag crock pot', 1.564102564102564), ('crock pot lil smoki', 1.5535714285714286), ('beef noodl crock pot', 1.55), ('crock pot steak gravi', 1.55), ('cube steak excel gravi', 1.55), ('campbel s slow cook pull pork', 1.5476190476190474), ('chipotl bacon bake bean', 1.5473684210526315), ('toast pine nut', 1.5441176470588234), ('easi compani pot roast', 1.5416666666666667), ('oven bake bacon potato', 1.5416666666666667), ('barbecu polish sausag kielbasa', 1.5384615384615385), ('polish sausag dinner', 1.5384615384615385), ('wonder yummi south bake bean', 1.5375)]\n",
      "--- 23.803665161132812 seconds ---\n"
     ]
    }
   ],
   "source": [
    "#run individual analysis\n",
    "user=361457\n",
    "start_time = time.time()\n",
    "\n",
    "personalV= parseReviews(user,interactions, recipes, ingredients,tags)\n",
    "personalRecommendations= generateRecommendations(personalV[0],personalV[1], recipesV[0], recipesV[1] )\n",
    "print(personalRecommendations[0:50])\n",
    "\n",
    "print(\"--- %s seconds ---\" % (time.time() - start_time))"
   ]
  },
  {
   "cell_type": "code",
   "execution_count": null,
   "id": "0b76e614-fc1d-4ee6-bcc2-c5fe6dffe220",
   "metadata": {},
   "outputs": [],
   "source": [
    "\n"
   ]
  }
 ],
 "metadata": {
  "kernelspec": {
   "display_name": "Python 3 (ipykernel)",
   "language": "python",
   "name": "python3"
  },
  "language_info": {
   "codemirror_mode": {
    "name": "ipython",
    "version": 3
   },
   "file_extension": ".py",
   "mimetype": "text/x-python",
   "name": "python",
   "nbconvert_exporter": "python",
   "pygments_lexer": "ipython3",
   "version": "3.12.4"
  }
 },
 "nbformat": 4,
 "nbformat_minor": 5
}
