{
 "cells": [
  {
   "cell_type": "code",
   "execution_count": 2,
   "id": "4b0171c8-9681-49fd-ae95-f9d058505ed9",
   "metadata": {},
   "outputs": [],
   "source": [
    "#data import\n",
    "import numpy as np\n",
    "import pandas as pd\n",
    "\n",
    "interactions= pd.read_csv(\"interactions_processed.csv\", header= 0)\n",
    "r1= pd.read_csv(\"recipes_processed_1.csv\", header= 0)\n",
    "r2= pd.read_csv(\"recipes_processed_2.csv\", header= 0)\n",
    "r3= pd.read_csv(\"recipes_processed_3.csv\", header= 0)\n",
    "recipes= r1.merge(r2, on= \"id\")\n",
    "recipes= recipes.merge(r3, on= \"id\")\n",
    "ingredients= pd.read_json(\"recipes_processed_key.json\")\n",
    "ingredients= ingredients[\"ingredients\"]\n",
    "\n"
   ]
  },
  {
   "cell_type": "code",
   "execution_count": 3,
   "id": "e5d1aed7-4d2f-4462-960e-cf65d0f99981",
   "metadata": {},
   "outputs": [
    {
     "name": "stdout",
     "output_type": "stream",
     "text": [
      "7.800000000000001\n",
      "[5.  0.  0.  2.1 0.7 0. ]\n",
      "7.8\n"
     ]
    }
   ],
   "source": [
    "#concept\n",
    "\n",
    "personalValues= np.array([5, 3.7, 0, 2.1, 0.7, 3.2]) # Personal avg ratings for each ingredient derived from personal ratings\n",
    "                                                     # Vector of length n = |ingridients|, as in n is the number of ALL ingredients in the food.com system\n",
    "\n",
    "recipeIngredients= np.array([ [1,0,0,0,0,0],  #recipe X represented as its ingredients on a n*n matrix, where 1 at index [j,j] denotes j'th ingredient\n",
    "                              [0,0,0,0,0,0],  #being present in the recipe\n",
    "                              [0,0,1,0,0,0], \n",
    "                              [0,0,0,1,0,0], \n",
    "                              [0,0,0,0,1,0], \n",
    "                              [0,0,0,0,0,0]])\n",
    "\n",
    "recipeVector= np.array([1,0,1,1,1,0]) #Alternative vector representation of a recipe. Vector of length n\n",
    "\n",
    "# compute recommendation score as matrix x vector\n",
    "scores= np.dot(personalValues,recipeIngredients) # compute score vector of recipe X\n",
    "scoreCollapsed= np.sum(scores) # collapse score vector to a single number\n",
    "\n",
    "# vector x vector alternative\n",
    "print(np.dot(personalValues, recipeVector))\n",
    "\n",
    "print(scores)\n",
    "print(scoreCollapsed)"
   ]
  },
  {
   "cell_type": "code",
   "execution_count": 4,
   "id": "94811931-9ce4-491e-ab40-c327173bcb19",
   "metadata": {},
   "outputs": [],
   "source": [
    "#functions\n",
    "\n",
    "from ast import literal_eval #parses .csv string \"lists\" to actual python lists\n",
    "\n",
    "def parseReviews(userID, interactions, recipes, ingredients): #parses a user's submitted into a vector of average rating for each ingredient\n",
    "    #print(recipes.dtypes)\n",
    "    data= interactions[interactions[\"user_id\"]== userID]\n",
    "    data= data.merge(recipes, left_on= \"recipe_id\", right_on= \"id\")\n",
    "    #print(data.head())\n",
    "    personalValues= np.array([0]*len(ingredients))\n",
    "    valuesIncremented= np.array([0]*len(ingredients))\n",
    "    \n",
    "    for i in range(len(data)):\n",
    "        #print(data.loc[i,\"ingredients\"])\n",
    "        for ingredient in literal_eval(data.loc[i,\"ingredients\"]):\n",
    "            #print(ingredient)\n",
    "            valuesIncremented[ingredient]= valuesIncremented[ingredient]+1\n",
    "            added= (data.loc[i,\"rating\"]-personalValues[ingredient])/valuesIncremented[ingredient]\n",
    "            personalValues[ingredient]= personalValues[ingredient]+added\n",
    "    return personalValues # outputs a vector of length n = |ingredients|\n",
    "    \n",
    "\n",
    "\n",
    "def vectorizeRecipes(recipes, ingredients): # parses the recipes data into binary vectors of ingredients in each recipe\n",
    "\n",
    "    recipesVectorized= []\n",
    "    for i in range(len(recipes)):\n",
    "        recipeVector= np.array([0]*len(ingredients))\n",
    "        for ingredient in literal_eval(recipes.loc[i,\"ingredients\"]):\n",
    "            recipeVector[ingredient]=1\n",
    "        \n",
    "        recipesVectorized.append((recipes.loc[i, \"id\"],recipeVector))\n",
    "    return recipesVectorized # outputs a length m = |recipes| list of vectors of length n \n",
    "\n",
    "\n",
    "def generateRecommendations(personalVector, recipeVectors): #generates the personal recommendations for an user\n",
    "    ratings= []\n",
    "    for recipe in recipeVectors:\n",
    "        rating= np.dot(personalVector, recipe[1])\n",
    "        ratings.append((recipe[0], rating))\n",
    "    ratings.sort(key= lambda x: x[1], reverse= True)\n",
    "    return ratings # outputs a length m list of 2-tuples formatted as (recipeID, score)"
   ]
  },
  {
   "cell_type": "code",
   "execution_count": 5,
   "id": "0baa0432-5cc0-4fda-bf58-ce0d2b892e2d",
   "metadata": {},
   "outputs": [],
   "source": [
    "#warning - slow\n",
    "#run vectorization of recipes only once\n",
    "recipesV= vectorizeRecipes(recipes, ingredients)"
   ]
  },
  {
   "cell_type": "code",
   "execution_count": 6,
   "id": "06024321-de27-414a-963d-48152b5a64e4",
   "metadata": {},
   "outputs": [
    {
     "name": "stdout",
     "output_type": "stream",
     "text": [
      "[(284814, 104), (161329, 103), (80044, 102), (333555, 97), (505050, 97), (74395, 96), (131978, 94), (397591, 93), (376675, 90), (116469, 88), (222092, 87), (183279, 85), (64944, 84), (441210, 82), (53815, 81), (315588, 81), (47943, 81), (475822, 81), (207220, 81), (224374, 81), (499336, 80), (102955, 80), (194754, 80), (453970, 80), (19629, 80), (456621, 79), (157639, 79), (271526, 79), (437161, 79), (283476, 78), (155194, 78), (211502, 78), (395716, 78), (125221, 78), (252539, 78), (334992, 78), (231794, 78), (110887, 77), (69861, 77), (125495, 77), (111615, 77), (398376, 77), (420718, 77), (238146, 77), (26793, 77), (295029, 77), (383366, 76), (451774, 76), (286652, 76), (430168, 76)]\n"
     ]
    }
   ],
   "source": [
    "#run individual analysis\n",
    "personalV= parseReviews(38094,interactions, recipes, ingredients)\n",
    "personalRecommendations= generateRecommendations(personalV, recipesV )\n",
    "print(personalRecommendations[0:50])"
   ]
  },
  {
   "cell_type": "code",
   "execution_count": null,
   "id": "0b76e614-fc1d-4ee6-bcc2-c5fe6dffe220",
   "metadata": {},
   "outputs": [],
   "source": [
    "\n"
   ]
  }
 ],
 "metadata": {
  "kernelspec": {
   "display_name": "Python 3 (ipykernel)",
   "language": "python",
   "name": "python3"
  },
  "language_info": {
   "codemirror_mode": {
    "name": "ipython",
    "version": 3
   },
   "file_extension": ".py",
   "mimetype": "text/x-python",
   "name": "python",
   "nbconvert_exporter": "python",
   "pygments_lexer": "ipython3",
   "version": "3.12.4"
  }
 },
 "nbformat": 4,
 "nbformat_minor": 5
}
